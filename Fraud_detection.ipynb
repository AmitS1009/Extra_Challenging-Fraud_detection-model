{
 "cells": [
  {
   "cell_type": "markdown",
   "id": "bb6b3c31-9407-4a5e-8d16-87996f576254",
   "metadata": {},
   "source": [
    "importing Vaex"
   ]
  },
  {
   "cell_type": "code",
   "execution_count": 1,
   "id": "94db3a2e-0ef6-45db-bad6-3dc870ba31a5",
   "metadata": {},
   "outputs": [],
   "source": [
    "import vaex"
   ]
  },
  {
   "cell_type": "markdown",
   "id": "a48a99de-a2b8-4a17-822d-bbf46d6b2c12",
   "metadata": {},
   "source": [
    "check if Vaex is working fine : "
   ]
  },
  {
   "cell_type": "code",
   "execution_count": 2,
   "id": "0bb8a028-a8b9-46b7-ba9c-d491c36c9374",
   "metadata": {},
   "outputs": [
    {
     "name": "stdout",
     "output_type": "stream",
     "text": [
      "  #    x    y\n",
      "  0    1    4\n",
      "  1    2    5\n",
      "  2    3    6\n"
     ]
    }
   ],
   "source": [
    "df = vaex.from_arrays(x=[1,2,3], y=[4,5,6])\n",
    "print(df)"
   ]
  },
  {
   "cell_type": "markdown",
   "id": "75aa2e90-840b-474d-a610-e9b8d4b8652d",
   "metadata": {},
   "source": [
    "Importing Other dependencies"
   ]
  },
  {
   "cell_type": "code",
   "execution_count": 3,
   "id": "addc64e6-db24-45be-9623-4b4f54b92b53",
   "metadata": {},
   "outputs": [],
   "source": [
    "import pandas as pd\n",
    "import numpy as np\n",
    "import matplotlib.pyplot as plt\n",
    "import seaborn as sns"
   ]
  },
  {
   "cell_type": "markdown",
   "id": "3f16b98b-53bf-4439-afb9-7c63b037d848",
   "metadata": {},
   "source": [
    "Loading the Data : "
   ]
  },
  {
   "cell_type": "code",
   "execution_count": 4,
   "id": "915a9854-3629-40e0-bf02-ba2f7784235a",
   "metadata": {},
   "outputs": [],
   "source": [
    "csv_file = 'Fraud.csv'"
   ]
  },
  {
   "cell_type": "code",
   "execution_count": 5,
   "id": "18c464d5-19e5-486f-ac58-9de0d02c849a",
   "metadata": {},
   "outputs": [],
   "source": [
    "df = vaex.from_csv(csv_file, convert=True, chunk_size=500_000)"
   ]
  },
  {
   "cell_type": "code",
   "execution_count": 6,
   "id": "ef08a447-0438-49ee-bcb5-f651f0d448d1",
   "metadata": {},
   "outputs": [
    {
     "data": {
      "text/html": [
       "<table>\n",
       "<thead>\n",
       "<tr><th>#                                    </th><th>step  </th><th>type    </th><th>amount    </th><th>nameOrig   </th><th>oldbalanceOrg  </th><th>newbalanceOrig  </th><th>nameDest   </th><th>oldbalanceDest  </th><th>newbalanceDest  </th><th>isFraud  </th><th>isFlaggedFraud  </th></tr>\n",
       "</thead>\n",
       "<tbody>\n",
       "<tr><td><i style='opacity: 0.6'>0</i>        </td><td>1     </td><td>PAYMENT </td><td>9839.64   </td><td>C1231006815</td><td>170136.0       </td><td>160296.36       </td><td>M1979787155</td><td>0.0             </td><td>0.0             </td><td>0        </td><td>0               </td></tr>\n",
       "<tr><td><i style='opacity: 0.6'>1</i>        </td><td>1     </td><td>PAYMENT </td><td>1864.28   </td><td>C1666544295</td><td>21249.0        </td><td>19384.72        </td><td>M2044282225</td><td>0.0             </td><td>0.0             </td><td>0        </td><td>0               </td></tr>\n",
       "<tr><td><i style='opacity: 0.6'>2</i>        </td><td>1     </td><td>TRANSFER</td><td>181.0     </td><td>C1305486145</td><td>181.0          </td><td>0.0             </td><td>C553264065 </td><td>0.0             </td><td>0.0             </td><td>1        </td><td>0               </td></tr>\n",
       "<tr><td><i style='opacity: 0.6'>3</i>        </td><td>1     </td><td>CASH_OUT</td><td>181.0     </td><td>C840083671 </td><td>181.0          </td><td>0.0             </td><td>C38997010  </td><td>21182.0         </td><td>0.0             </td><td>1        </td><td>0               </td></tr>\n",
       "<tr><td><i style='opacity: 0.6'>4</i>        </td><td>1     </td><td>PAYMENT </td><td>11668.14  </td><td>C2048537720</td><td>41554.0        </td><td>29885.86        </td><td>M1230701703</td><td>0.0             </td><td>0.0             </td><td>0        </td><td>0               </td></tr>\n",
       "<tr><td>...                                  </td><td>...   </td><td>...     </td><td>...       </td><td>...        </td><td>...            </td><td>...             </td><td>...        </td><td>...             </td><td>...             </td><td>...      </td><td>...             </td></tr>\n",
       "<tr><td><i style='opacity: 0.6'>6,362,615</i></td><td>743   </td><td>CASH_OUT</td><td>339682.13 </td><td>C786484425 </td><td>339682.13      </td><td>0.0             </td><td>C776919290 </td><td>0.0             </td><td>339682.13       </td><td>1        </td><td>0               </td></tr>\n",
       "<tr><td><i style='opacity: 0.6'>6,362,616</i></td><td>743   </td><td>TRANSFER</td><td>6311409.28</td><td>C1529008245</td><td>6311409.28     </td><td>0.0             </td><td>C1881841831</td><td>0.0             </td><td>0.0             </td><td>1        </td><td>0               </td></tr>\n",
       "<tr><td><i style='opacity: 0.6'>6,362,617</i></td><td>743   </td><td>CASH_OUT</td><td>6311409.28</td><td>C1162922333</td><td>6311409.28     </td><td>0.0             </td><td>C1365125890</td><td>68488.84        </td><td>6379898.11      </td><td>1        </td><td>0               </td></tr>\n",
       "<tr><td><i style='opacity: 0.6'>6,362,618</i></td><td>743   </td><td>TRANSFER</td><td>850002.52 </td><td>C1685995037</td><td>850002.52      </td><td>0.0             </td><td>C2080388513</td><td>0.0             </td><td>0.0             </td><td>1        </td><td>0               </td></tr>\n",
       "<tr><td><i style='opacity: 0.6'>6,362,619</i></td><td>743   </td><td>CASH_OUT</td><td>850002.52 </td><td>C1280323807</td><td>850002.52      </td><td>0.0             </td><td>C873221189 </td><td>6510099.11      </td><td>7360101.63      </td><td>1        </td><td>0               </td></tr>\n",
       "</tbody>\n",
       "</table>"
      ],
      "text/plain": [
       "#          step    type      amount      nameOrig     oldbalanceOrg    newbalanceOrig    nameDest     oldbalanceDest    newbalanceDest    isFraud    isFlaggedFraud\n",
       "0          1       PAYMENT   9839.64     C1231006815  170136.0         160296.36         M1979787155  0.0               0.0               0          0\n",
       "1          1       PAYMENT   1864.28     C1666544295  21249.0          19384.72          M2044282225  0.0               0.0               0          0\n",
       "2          1       TRANSFER  181.0       C1305486145  181.0            0.0               C553264065   0.0               0.0               1          0\n",
       "3          1       CASH_OUT  181.0       C840083671   181.0            0.0               C38997010    21182.0           0.0               1          0\n",
       "4          1       PAYMENT   11668.14    C2048537720  41554.0          29885.86          M1230701703  0.0               0.0               0          0\n",
       "...        ...     ...       ...         ...          ...              ...               ...          ...               ...               ...        ...\n",
       "6,362,615  743     CASH_OUT  339682.13   C786484425   339682.13        0.0               C776919290   0.0               339682.13         1          0\n",
       "6,362,616  743     TRANSFER  6311409.28  C1529008245  6311409.28       0.0               C1881841831  0.0               0.0               1          0\n",
       "6,362,617  743     CASH_OUT  6311409.28  C1162922333  6311409.28       0.0               C1365125890  68488.84          6379898.11        1          0\n",
       "6,362,618  743     TRANSFER  850002.52   C1685995037  850002.52        0.0               C2080388513  0.0               0.0               1          0\n",
       "6,362,619  743     CASH_OUT  850002.52   C1280323807  850002.52        0.0               C873221189   6510099.11        7360101.63        1          0"
      ]
     },
     "execution_count": 6,
     "metadata": {},
     "output_type": "execute_result"
    }
   ],
   "source": [
    "df"
   ]
  },
  {
   "cell_type": "markdown",
   "id": "a8c9d48b-e866-4b6e-8d53-ab64120457cf",
   "metadata": {},
   "source": [
    "data Analysis : "
   ]
  },
  {
   "cell_type": "code",
   "execution_count": 7,
   "id": "364391da-2572-4d6b-9435-5ddd7095699e",
   "metadata": {},
   "outputs": [
    {
     "data": {
      "text/html": [
       "<table>\n",
       "<thead>\n",
       "<tr><th>#                            </th><th style=\"text-align: right;\">  step</th><th>type    </th><th style=\"text-align: right;\">  amount</th><th>nameOrig   </th><th style=\"text-align: right;\">  oldbalanceOrg</th><th style=\"text-align: right;\">  newbalanceOrig</th><th>nameDest   </th><th style=\"text-align: right;\">  oldbalanceDest</th><th style=\"text-align: right;\">  newbalanceDest</th><th style=\"text-align: right;\">  isFraud</th><th style=\"text-align: right;\">  isFlaggedFraud</th></tr>\n",
       "</thead>\n",
       "<tbody>\n",
       "<tr><td><i style='opacity: 0.6'>0</i></td><td style=\"text-align: right;\">     1</td><td>PAYMENT </td><td style=\"text-align: right;\"> 9839.64</td><td>C1231006815</td><td style=\"text-align: right;\">         170136</td><td style=\"text-align: right;\">        160296  </td><td>M1979787155</td><td style=\"text-align: right;\">               0</td><td style=\"text-align: right;\">               0</td><td style=\"text-align: right;\">        0</td><td style=\"text-align: right;\">               0</td></tr>\n",
       "<tr><td><i style='opacity: 0.6'>1</i></td><td style=\"text-align: right;\">     1</td><td>PAYMENT </td><td style=\"text-align: right;\"> 1864.28</td><td>C1666544295</td><td style=\"text-align: right;\">          21249</td><td style=\"text-align: right;\">         19384.7</td><td>M2044282225</td><td style=\"text-align: right;\">               0</td><td style=\"text-align: right;\">               0</td><td style=\"text-align: right;\">        0</td><td style=\"text-align: right;\">               0</td></tr>\n",
       "<tr><td><i style='opacity: 0.6'>2</i></td><td style=\"text-align: right;\">     1</td><td>TRANSFER</td><td style=\"text-align: right;\">  181   </td><td>C1305486145</td><td style=\"text-align: right;\">            181</td><td style=\"text-align: right;\">             0  </td><td>C553264065 </td><td style=\"text-align: right;\">               0</td><td style=\"text-align: right;\">               0</td><td style=\"text-align: right;\">        1</td><td style=\"text-align: right;\">               0</td></tr>\n",
       "<tr><td><i style='opacity: 0.6'>3</i></td><td style=\"text-align: right;\">     1</td><td>CASH_OUT</td><td style=\"text-align: right;\">  181   </td><td>C840083671 </td><td style=\"text-align: right;\">            181</td><td style=\"text-align: right;\">             0  </td><td>C38997010  </td><td style=\"text-align: right;\">           21182</td><td style=\"text-align: right;\">               0</td><td style=\"text-align: right;\">        1</td><td style=\"text-align: right;\">               0</td></tr>\n",
       "<tr><td><i style='opacity: 0.6'>4</i></td><td style=\"text-align: right;\">     1</td><td>PAYMENT </td><td style=\"text-align: right;\">11668.1 </td><td>C2048537720</td><td style=\"text-align: right;\">          41554</td><td style=\"text-align: right;\">         29885.9</td><td>M1230701703</td><td style=\"text-align: right;\">               0</td><td style=\"text-align: right;\">               0</td><td style=\"text-align: right;\">        0</td><td style=\"text-align: right;\">               0</td></tr>\n",
       "</tbody>\n",
       "</table>"
      ],
      "text/plain": [
       "  #    step  type        amount  nameOrig       oldbalanceOrg    newbalanceOrig  nameDest       oldbalanceDest    newbalanceDest    isFraud    isFlaggedFraud\n",
       "  0       1  PAYMENT    9839.64  C1231006815           170136          160296    M1979787155                 0                 0          0                 0\n",
       "  1       1  PAYMENT    1864.28  C1666544295            21249           19384.7  M2044282225                 0                 0          0                 0\n",
       "  2       1  TRANSFER    181     C1305486145              181               0    C553264065                  0                 0          1                 0\n",
       "  3       1  CASH_OUT    181     C840083671               181               0    C38997010               21182                 0          1                 0\n",
       "  4       1  PAYMENT   11668.1   C2048537720            41554           29885.9  M1230701703                 0                 0          0                 0"
      ]
     },
     "execution_count": 7,
     "metadata": {},
     "output_type": "execute_result"
    }
   ],
   "source": [
    "df.head(5)"
   ]
  },
  {
   "cell_type": "code",
   "execution_count": 8,
   "id": "4478a62e-1cb7-4fa8-bca2-6517e006f59b",
   "metadata": {},
   "outputs": [
    {
     "data": {
      "text/plain": [
       "(6362620, 11)"
      ]
     },
     "execution_count": 8,
     "metadata": {},
     "output_type": "execute_result"
    }
   ],
   "source": [
    "df.shape"
   ]
  },
  {
   "cell_type": "code",
   "execution_count": 9,
   "id": "64c01953-5be9-4648-aa76-aa9de4a205e7",
   "metadata": {},
   "outputs": [
    {
     "data": {
      "text/html": [
       "<div>\n",
       "<style scoped>\n",
       "    .dataframe tbody tr th:only-of-type {\n",
       "        vertical-align: middle;\n",
       "    }\n",
       "\n",
       "    .dataframe tbody tr th {\n",
       "        vertical-align: top;\n",
       "    }\n",
       "\n",
       "    .dataframe thead th {\n",
       "        text-align: right;\n",
       "    }\n",
       "</style>\n",
       "<table border=\"1\" class=\"dataframe\">\n",
       "  <thead>\n",
       "    <tr style=\"text-align: right;\">\n",
       "      <th></th>\n",
       "      <th>step</th>\n",
       "      <th>type</th>\n",
       "      <th>amount</th>\n",
       "      <th>nameOrig</th>\n",
       "      <th>oldbalanceOrg</th>\n",
       "      <th>newbalanceOrig</th>\n",
       "      <th>nameDest</th>\n",
       "      <th>oldbalanceDest</th>\n",
       "      <th>newbalanceDest</th>\n",
       "      <th>isFraud</th>\n",
       "      <th>isFlaggedFraud</th>\n",
       "    </tr>\n",
       "  </thead>\n",
       "  <tbody>\n",
       "    <tr>\n",
       "      <th>data_type</th>\n",
       "      <td>int64</td>\n",
       "      <td>string</td>\n",
       "      <td>float64</td>\n",
       "      <td>string</td>\n",
       "      <td>float64</td>\n",
       "      <td>float64</td>\n",
       "      <td>string</td>\n",
       "      <td>float64</td>\n",
       "      <td>float64</td>\n",
       "      <td>int64</td>\n",
       "      <td>int64</td>\n",
       "    </tr>\n",
       "    <tr>\n",
       "      <th>count</th>\n",
       "      <td>6362620</td>\n",
       "      <td>6362620</td>\n",
       "      <td>6362620</td>\n",
       "      <td>6362620</td>\n",
       "      <td>6362620</td>\n",
       "      <td>6362620</td>\n",
       "      <td>6362620</td>\n",
       "      <td>6362620</td>\n",
       "      <td>6362620</td>\n",
       "      <td>6362620</td>\n",
       "      <td>6362620</td>\n",
       "    </tr>\n",
       "    <tr>\n",
       "      <th>NA</th>\n",
       "      <td>0</td>\n",
       "      <td>0</td>\n",
       "      <td>0</td>\n",
       "      <td>0</td>\n",
       "      <td>0</td>\n",
       "      <td>0</td>\n",
       "      <td>0</td>\n",
       "      <td>0</td>\n",
       "      <td>0</td>\n",
       "      <td>0</td>\n",
       "      <td>0</td>\n",
       "    </tr>\n",
       "    <tr>\n",
       "      <th>mean</th>\n",
       "      <td>243.39724563151657</td>\n",
       "      <td>--</td>\n",
       "      <td>179861.90354913034</td>\n",
       "      <td>--</td>\n",
       "      <td>833883.1040744882</td>\n",
       "      <td>855113.6685785801</td>\n",
       "      <td>--</td>\n",
       "      <td>1100701.666519653</td>\n",
       "      <td>1224996.3982019366</td>\n",
       "      <td>0.001290820448180152</td>\n",
       "      <td>2.51468734577894e-06</td>\n",
       "    </tr>\n",
       "    <tr>\n",
       "      <th>std</th>\n",
       "      <td>142.33196</td>\n",
       "      <td>--</td>\n",
       "      <td>603858.184009</td>\n",
       "      <td>--</td>\n",
       "      <td>2888242.446069</td>\n",
       "      <td>2924048.273171</td>\n",
       "      <td>--</td>\n",
       "      <td>3399179.845873</td>\n",
       "      <td>3674128.653392</td>\n",
       "      <td>0.035905</td>\n",
       "      <td>0.001586</td>\n",
       "    </tr>\n",
       "    <tr>\n",
       "      <th>min</th>\n",
       "      <td>1</td>\n",
       "      <td>--</td>\n",
       "      <td>0.0</td>\n",
       "      <td>--</td>\n",
       "      <td>0.0</td>\n",
       "      <td>0.0</td>\n",
       "      <td>--</td>\n",
       "      <td>0.0</td>\n",
       "      <td>0.0</td>\n",
       "      <td>0</td>\n",
       "      <td>0</td>\n",
       "    </tr>\n",
       "    <tr>\n",
       "      <th>max</th>\n",
       "      <td>743</td>\n",
       "      <td>--</td>\n",
       "      <td>92445516.64</td>\n",
       "      <td>--</td>\n",
       "      <td>59585040.37</td>\n",
       "      <td>49585040.37</td>\n",
       "      <td>--</td>\n",
       "      <td>356015889.35</td>\n",
       "      <td>356179278.92</td>\n",
       "      <td>1</td>\n",
       "      <td>1</td>\n",
       "    </tr>\n",
       "  </tbody>\n",
       "</table>\n",
       "</div>"
      ],
      "text/plain": [
       "                         step     type              amount nameOrig  \\\n",
       "data_type               int64   string             float64   string   \n",
       "count                 6362620  6362620             6362620  6362620   \n",
       "NA                          0        0                   0        0   \n",
       "mean       243.39724563151657       --  179861.90354913034       --   \n",
       "std                 142.33196       --       603858.184009       --   \n",
       "min                         1       --                 0.0       --   \n",
       "max                       743       --         92445516.64       --   \n",
       "\n",
       "               oldbalanceOrg     newbalanceOrig nameDest     oldbalanceDest  \\\n",
       "data_type            float64            float64   string            float64   \n",
       "count                6362620            6362620  6362620            6362620   \n",
       "NA                         0                  0        0                  0   \n",
       "mean       833883.1040744882  855113.6685785801       --  1100701.666519653   \n",
       "std           2888242.446069     2924048.273171       --     3399179.845873   \n",
       "min                      0.0                0.0       --                0.0   \n",
       "max              59585040.37        49585040.37       --       356015889.35   \n",
       "\n",
       "               newbalanceDest               isFraud        isFlaggedFraud  \n",
       "data_type             float64                 int64                 int64  \n",
       "count                 6362620               6362620               6362620  \n",
       "NA                          0                     0                     0  \n",
       "mean       1224996.3982019366  0.001290820448180152  2.51468734577894e-06  \n",
       "std            3674128.653392              0.035905              0.001586  \n",
       "min                       0.0                     0                     0  \n",
       "max              356179278.92                     1                     1  "
      ]
     },
     "execution_count": 9,
     "metadata": {},
     "output_type": "execute_result"
    }
   ],
   "source": [
    "df.describe()"
   ]
  },
  {
   "cell_type": "code",
   "execution_count": 10,
   "id": "6466baea-b88e-430a-92e6-f994f5ace4cd",
   "metadata": {},
   "outputs": [
    {
     "name": "stdout",
     "output_type": "stream",
     "text": [
      "step                int64\n",
      "type               string\n",
      "amount            float64\n",
      "nameOrig           string\n",
      "oldbalanceOrg     float64\n",
      "newbalanceOrig    float64\n",
      "nameDest           string\n",
      "oldbalanceDest    float64\n",
      "newbalanceDest    float64\n",
      "isFraud             int64\n",
      "isFlaggedFraud      int64\n",
      "dtype: object\n"
     ]
    }
   ],
   "source": [
    "print(df.dtypes)"
   ]
  },
  {
   "cell_type": "code",
   "execution_count": 11,
   "id": "390515e9-d6de-4c17-81cf-6e8d39575ae2",
   "metadata": {},
   "outputs": [
    {
     "name": "stdout",
     "output_type": "stream",
     "text": [
      "step: 0 nulls\n",
      "type: 0 nulls\n",
      "amount: 0 nulls\n",
      "nameOrig: 0 nulls\n",
      "oldbalanceOrg: 0 nulls\n",
      "newbalanceOrig: 0 nulls\n",
      "nameDest: 0 nulls\n",
      "oldbalanceDest: 0 nulls\n",
      "newbalanceDest: 0 nulls\n",
      "isFraud: 0 nulls\n",
      "isFlaggedFraud: 0 nulls\n",
      "\n"
     ]
    }
   ],
   "source": [
    "for col in df.column_names:\n",
    "    null_count = df[col].isna().sum()\n",
    "    print(f\"{col}: {null_count:,} nulls\")\n",
    "print()"
   ]
  },
  {
   "cell_type": "code",
   "execution_count": 12,
   "id": "85e22e09-852b-4ed2-acb2-740ea5667eac",
   "metadata": {},
   "outputs": [
    {
     "name": "stdout",
     "output_type": "stream",
     "text": [
      "CASH_OUT    2237500\n",
      "PAYMENT     2151495\n",
      "CASH_IN     1399284\n",
      "TRANSFER     532909\n",
      "DEBIT         41432\n",
      "dtype: int64\n"
     ]
    }
   ],
   "source": [
    "# Check transaction types\n",
    "\n",
    "if 'type' in df.column_names:\n",
    "    type_counts = df['type'].value_counts()\n",
    "    print(type_counts)"
   ]
  },
  {
   "cell_type": "code",
   "execution_count": 13,
   "id": "466b5eb2-d5ff-44c3-aff4-b84c7f4635f0",
   "metadata": {},
   "outputs": [
    {
     "name": "stdout",
     "output_type": "stream",
     "text": [
      "0    6354407\n",
      "1       8213\n",
      "dtype: int64\n",
      "Fraud rate: 0.1291%\n",
      "\n"
     ]
    }
   ],
   "source": [
    "# Target variable distribution\n",
    "\n",
    "if 'isFraud' in df.column_names:\n",
    "    fraud_counts = df['isFraud'].value_counts()\n",
    "    print(fraud_counts)\n",
    "    print(f\"Fraud rate: {(fraud_counts[1]/df.shape[0])*100:.4f}%\")\n",
    "print()\n"
   ]
  },
  {
   "cell_type": "markdown",
   "id": "73cd4c3e-673e-47e5-a012-a5450909d3f3",
   "metadata": {},
   "source": [
    "Data Cleaning : "
   ]
  },
  {
   "cell_type": "code",
   "execution_count": 14,
   "id": "6cf2056c-7bdb-40f3-b3ba-82645d406813",
   "metadata": {},
   "outputs": [],
   "source": [
    "# No missing Values "
   ]
  },
  {
   "cell_type": "code",
   "execution_count": 15,
   "id": "55181df9-465e-41b2-9c88-a184383bd771",
   "metadata": {},
   "outputs": [
    {
     "name": "stdout",
     "output_type": "stream",
     "text": [
      "Calculating outliers using the approximate IQR method...\n",
      "\n",
      "'amount':\n",
      "  Q1: -2,835.98, Q3: 168,356.22, IQR: 171,192.20\n",
      "  Bounds: [-259,624.28, 425,144.53]\n",
      "  Outliers found: 467,870 (7.35%)\n",
      "\n",
      "'oldbalanceOrg':\n",
      "  Q1: -7,790.88, Q3: 81,474.59, IQR: 89,265.47\n",
      "  Bounds: [-141,689.08, 215,372.79]\n",
      "  Outliers found: 1,212,323 (19.05%)\n",
      "\n",
      "'newbalanceOrig':\n",
      "  Q1: -6,213.52, Q3: 120,262.97, IQR: 126,476.49\n",
      "  Bounds: [-195,928.26, 309,977.70]\n",
      "  Outliers found: 1,134,820 (17.84%)\n",
      "\n",
      "'oldbalanceDest':\n",
      "  Q1: -29,390.56, Q3: 783,845.95, IQR: 813,236.51\n",
      "  Bounds: [-1,249,245.32, 2,003,700.71]\n",
      "  Outliers found: 912,106 (14.34%)\n",
      "\n",
      "'newbalanceDest':\n",
      "  Q1: -19,289.16, Q3: 948,371.73, IQR: 967,660.90\n",
      "  Bounds: [-1,470,780.51, 2,399,863.08]\n",
      "  Outliers found: 855,212 (13.44%)\n",
      "\n"
     ]
    }
   ],
   "source": [
    "# The list of numeric columns remains the same\n",
    "numeric_cols = ['amount', 'oldbalanceOrg', 'newbalanceOrig', 'oldbalanceDest', 'newbalanceDest']\n",
    "\n",
    "print(\"Calculating outliers using the approximate IQR method...\\n\")\n",
    "\n",
    "for col in numeric_cols:\n",
    "    # Use df.percentile_approx(col, percentage) for quantiles\n",
    "    Q1 = df.percentile_approx(col, 25)\n",
    "    Q3 = df.percentile_approx(col, 75)\n",
    "    \n",
    "    IQR = Q3 - Q1\n",
    "    lower_bound = Q1 - 1.5 * IQR\n",
    "    upper_bound = Q3 + 1.5 * IQR\n",
    "    \n",
    "    # This part of your code remains correct for Vaex\n",
    "    outlier_count = df[(df[col] < lower_bound) | (df[col] > upper_bound)].count()\n",
    "    \n",
    "    print(f\"'{col}':\")\n",
    "    print(f\"  Q1: {Q1:,.2f}, Q3: {Q3:,.2f}, IQR: {IQR:,.2f}\")\n",
    "    print(f\"  Bounds: [{lower_bound:,.2f}, {upper_bound:,.2f}]\")\n",
    "    print(f\"  Outliers found: {outlier_count:,} ({outlier_count/df.shape[0]*100:.2f}%)\\n\")"
   ]
  },
  {
   "cell_type": "code",
   "execution_count": 16,
   "id": "0c29a224-b3f7-47ce-92df-5c9a2517f673",
   "metadata": {},
   "outputs": [
    {
     "name": "stdout",
     "output_type": "stream",
     "text": [
      "Checking for negative values in the dataset...\n",
      "\n",
      "- Number of negative values in 'amount': 0\n",
      "- Number of negative values in 'oldbalanceOrg': 0\n",
      "- Number of negative values in 'newbalanceOrig': 0\n",
      "- Number of negative values in 'oldbalanceDest': 0\n",
      "- Number of negative values in 'newbalanceDest': 0\n"
     ]
    }
   ],
   "source": [
    "# Investigate the Negative Values\n",
    "\n",
    "\n",
    "# List of columns to check for negative values\n",
    "numeric_cols = ['amount', 'oldbalanceOrg', 'newbalanceOrig', 'oldbalanceDest', 'newbalanceDest']\n",
    "\n",
    "print(\"Checking for negative values in the dataset...\\n\")\n",
    "\n",
    "for col in numeric_cols:\n",
    "    # Count rows where the value in the column is less than 0\n",
    "    negative_count = df[df[col] < 0].count()\n",
    "    print(f\"- Number of negative values in '{col}': {negative_count}\")\n"
   ]
  },
  {
   "cell_type": "code",
   "execution_count": 17,
   "id": "8324d941-27b2-4ed4-99a9-edcbc32d3a9d",
   "metadata": {},
   "outputs": [
    {
     "name": "stdout",
     "output_type": "stream",
     "text": [
      "Log transformation complete. New columns with '_log' suffix created.\n"
     ]
    }
   ],
   "source": [
    "# Handle Zeros and Apply a Log Transformation\n",
    "\n",
    "# Apply the log transformation to the skewed numeric columns\n",
    "# This creates new columns, preserving your original data\n",
    "for col in numeric_cols:\n",
    "    # We add '_log' to the new column name\n",
    "    df[f'{col}_log'] = np.log1p(df[col])\n",
    "\n",
    "print(\"Log transformation complete. New columns with '_log' suffix created.\")"
   ]
  },
  {
   "cell_type": "code",
   "execution_count": 18,
   "id": "701ae26d-d37b-4fee-bda0-a5bcb1b09c24",
   "metadata": {},
   "outputs": [
    {
     "data": {
      "text/html": [
       "<table>\n",
       "<thead>\n",
       "<tr><th>#                            </th><th style=\"text-align: right;\">  step</th><th>type    </th><th style=\"text-align: right;\">  amount</th><th>nameOrig   </th><th style=\"text-align: right;\">  oldbalanceOrg</th><th style=\"text-align: right;\">  newbalanceOrig</th><th>nameDest   </th><th style=\"text-align: right;\">  oldbalanceDest</th><th style=\"text-align: right;\">  newbalanceDest</th><th style=\"text-align: right;\">  isFraud</th><th style=\"text-align: right;\">  isFlaggedFraud</th><th style=\"text-align: right;\">  amount_log</th><th style=\"text-align: right;\">  oldbalanceOrg_log</th><th style=\"text-align: right;\">  newbalanceOrig_log</th><th style=\"text-align: right;\">  oldbalanceDest_log</th><th style=\"text-align: right;\">  newbalanceDest_log</th></tr>\n",
       "</thead>\n",
       "<tbody>\n",
       "<tr><td><i style='opacity: 0.6'>0</i></td><td style=\"text-align: right;\">     1</td><td>PAYMENT </td><td style=\"text-align: right;\"> 9839.64</td><td>C1231006815</td><td style=\"text-align: right;\">         170136</td><td style=\"text-align: right;\">        160296  </td><td>M1979787155</td><td style=\"text-align: right;\">               0</td><td style=\"text-align: right;\">               0</td><td style=\"text-align: right;\">        0</td><td style=\"text-align: right;\">               0</td><td style=\"text-align: right;\">     9.19428</td><td style=\"text-align: right;\">           12.0444 </td><td style=\"text-align: right;\">            11.9848 </td><td style=\"text-align: right;\">                   0</td><td style=\"text-align: right;\">                   0</td></tr>\n",
       "<tr><td><i style='opacity: 0.6'>1</i></td><td style=\"text-align: right;\">     1</td><td>PAYMENT </td><td style=\"text-align: right;\"> 1864.28</td><td>C1666544295</td><td style=\"text-align: right;\">          21249</td><td style=\"text-align: right;\">         19384.7</td><td>M2044282225</td><td style=\"text-align: right;\">               0</td><td style=\"text-align: right;\">               0</td><td style=\"text-align: right;\">        0</td><td style=\"text-align: right;\">               0</td><td style=\"text-align: right;\">     7.53117</td><td style=\"text-align: right;\">            9.96411</td><td style=\"text-align: right;\">             9.87229</td><td style=\"text-align: right;\">                   0</td><td style=\"text-align: right;\">                   0</td></tr>\n",
       "<tr><td><i style='opacity: 0.6'>2</i></td><td style=\"text-align: right;\">     1</td><td>TRANSFER</td><td style=\"text-align: right;\">  181   </td><td>C1305486145</td><td style=\"text-align: right;\">            181</td><td style=\"text-align: right;\">             0  </td><td>C553264065 </td><td style=\"text-align: right;\">               0</td><td style=\"text-align: right;\">               0</td><td style=\"text-align: right;\">        1</td><td style=\"text-align: right;\">               0</td><td style=\"text-align: right;\">     5.20401</td><td style=\"text-align: right;\">            5.20401</td><td style=\"text-align: right;\">             0      </td><td style=\"text-align: right;\">                   0</td><td style=\"text-align: right;\">                   0</td></tr>\n",
       "</tbody>\n",
       "</table>"
      ],
      "text/plain": [
       "  #    step  type        amount  nameOrig       oldbalanceOrg    newbalanceOrig  nameDest       oldbalanceDest    newbalanceDest    isFraud    isFlaggedFraud    amount_log    oldbalanceOrg_log    newbalanceOrig_log    oldbalanceDest_log    newbalanceDest_log\n",
       "  0       1  PAYMENT    9839.64  C1231006815           170136          160296    M1979787155                 0                 0          0                 0       9.19428             12.0444               11.9848                      0                     0\n",
       "  1       1  PAYMENT    1864.28  C1666544295            21249           19384.7  M2044282225                 0                 0          0                 0       7.53117              9.96411               9.87229                     0                     0\n",
       "  2       1  TRANSFER    181     C1305486145              181               0    C553264065                  0                 0          1                 0       5.20401              5.20401               0                           0                     0"
      ]
     },
     "execution_count": 18,
     "metadata": {},
     "output_type": "execute_result"
    }
   ],
   "source": [
    "df.head(3)"
   ]
  },
  {
   "cell_type": "code",
   "execution_count": 19,
   "id": "fe61f096-0be6-4170-8c6e-ce2f132f190c",
   "metadata": {},
   "outputs": [
    {
     "name": "stdout",
     "output_type": "stream",
     "text": [
      "Found unique transaction types: ['CASH_OUT', 'TRANSFER', 'CASH_IN', 'PAYMENT', 'DEBIT']\n",
      "\n",
      "Creating one-hot encoded columns...\n",
      " -> Created column: 'type_CASH_OUT'\n",
      " -> Created column: 'type_TRANSFER'\n",
      " -> Created column: 'type_CASH_IN'\n",
      " -> Created column: 'type_PAYMENT'\n",
      " -> Created column: 'type_DEBIT'\n",
      "\n",
      "One-hot encoding is now complete.\n"
     ]
    },
    {
     "data": {
      "text/html": [
       "<table>\n",
       "<thead>\n",
       "<tr><th>#                                    </th><th>step  </th><th>type    </th><th>amount    </th><th>nameOrig   </th><th>oldbalanceOrg  </th><th>newbalanceOrig  </th><th>nameDest   </th><th>oldbalanceDest  </th><th>newbalanceDest  </th><th>isFraud  </th><th>isFlaggedFraud  </th><th>amount_log        </th><th>oldbalanceOrg_log  </th><th>newbalanceOrig_log  </th><th>oldbalanceDest_log  </th><th>newbalanceDest_log  </th><th>type_CASH_OUT  </th><th>type_TRANSFER  </th><th>type_CASH_IN  </th><th>type_PAYMENT  </th><th>type_DEBIT  </th></tr>\n",
       "</thead>\n",
       "<tbody>\n",
       "<tr><td><i style='opacity: 0.6'>0</i>        </td><td>1     </td><td>PAYMENT </td><td>9839.64   </td><td>C1231006815</td><td>170136.0       </td><td>160296.36       </td><td>M1979787155</td><td>0.0             </td><td>0.0             </td><td>0        </td><td>0               </td><td>9.194276028581655 </td><td>12.04435927383651  </td><td>11.984785869341627  </td><td>0.0                 </td><td>0.0                 </td><td>0              </td><td>0              </td><td>0             </td><td>1             </td><td>0           </td></tr>\n",
       "<tr><td><i style='opacity: 0.6'>1</i>        </td><td>1     </td><td>PAYMENT </td><td>1864.28   </td><td>C1666544295</td><td>21249.0        </td><td>19384.72        </td><td>M2044282225</td><td>0.0             </td><td>0.0             </td><td>0        </td><td>0               </td><td>7.531166454857185 </td><td>9.964112174352563  </td><td>9.872291991535475   </td><td>0.0                 </td><td>0.0                 </td><td>0              </td><td>0              </td><td>0             </td><td>1             </td><td>0           </td></tr>\n",
       "<tr><td><i style='opacity: 0.6'>2</i>        </td><td>1     </td><td>TRANSFER</td><td>181.0     </td><td>C1305486145</td><td>181.0          </td><td>0.0             </td><td>C553264065 </td><td>0.0             </td><td>0.0             </td><td>1        </td><td>0               </td><td>5.204006687076795 </td><td>5.204006687076795  </td><td>0.0                 </td><td>0.0                 </td><td>0.0                 </td><td>0              </td><td>1              </td><td>0             </td><td>0             </td><td>0           </td></tr>\n",
       "<tr><td><i style='opacity: 0.6'>3</i>        </td><td>1     </td><td>CASH_OUT</td><td>181.0     </td><td>C840083671 </td><td>181.0          </td><td>0.0             </td><td>C38997010  </td><td>21182.0         </td><td>0.0             </td><td>1        </td><td>0               </td><td>5.204006687076795 </td><td>5.204006687076795  </td><td>0.0                 </td><td>9.960954252184457   </td><td>0.0                 </td><td>1              </td><td>0              </td><td>0             </td><td>0             </td><td>0           </td></tr>\n",
       "<tr><td><i style='opacity: 0.6'>4</i>        </td><td>1     </td><td>PAYMENT </td><td>11668.14  </td><td>C2048537720</td><td>41554.0        </td><td>29885.86        </td><td>M1230701703</td><td>0.0             </td><td>0.0             </td><td>0        </td><td>0               </td><td>9.364703029334617 </td><td>10.634773129987126 </td><td>10.305174197902842  </td><td>0.0                 </td><td>0.0                 </td><td>0              </td><td>0              </td><td>0             </td><td>1             </td><td>0           </td></tr>\n",
       "<tr><td>...                                  </td><td>...   </td><td>...     </td><td>...       </td><td>...        </td><td>...            </td><td>...             </td><td>...        </td><td>...             </td><td>...             </td><td>...      </td><td>...             </td><td>...               </td><td>...                </td><td>...                 </td><td>...                 </td><td>...                 </td><td>...            </td><td>...            </td><td>...           </td><td>...           </td><td>...         </td></tr>\n",
       "<tr><td><i style='opacity: 0.6'>6,362,615</i></td><td>743   </td><td>CASH_OUT</td><td>339682.13 </td><td>C786484425 </td><td>339682.13      </td><td>0.0             </td><td>C776919290 </td><td>0.0             </td><td>339682.13       </td><td>1        </td><td>0               </td><td>12.735768491449505</td><td>12.735768491449505 </td><td>0.0                 </td><td>0.0                 </td><td>12.735768491449505  </td><td>1              </td><td>0              </td><td>0             </td><td>0             </td><td>0           </td></tr>\n",
       "<tr><td><i style='opacity: 0.6'>6,362,616</i></td><td>743   </td><td>TRANSFER</td><td>6311409.28</td><td>C1529008245</td><td>6311409.28     </td><td>0.0             </td><td>C1881841831</td><td>0.0             </td><td>0.0             </td><td>1        </td><td>0               </td><td>15.657869708752775</td><td>15.657869708752775 </td><td>0.0                 </td><td>0.0                 </td><td>0.0                 </td><td>0              </td><td>1              </td><td>0             </td><td>0             </td><td>0           </td></tr>\n",
       "<tr><td><i style='opacity: 0.6'>6,362,617</i></td><td>743   </td><td>CASH_OUT</td><td>6311409.28</td><td>C1162922333</td><td>6311409.28     </td><td>0.0             </td><td>C1365125890</td><td>68488.84        </td><td>6379898.11      </td><td>1        </td><td>0               </td><td>15.657869708752775</td><td>15.657869708752775 </td><td>0.0                 </td><td>11.13444069208176   </td><td>15.668662841716314  </td><td>1              </td><td>0              </td><td>0             </td><td>0             </td><td>0           </td></tr>\n",
       "<tr><td><i style='opacity: 0.6'>6,362,618</i></td><td>743   </td><td>TRANSFER</td><td>850002.52 </td><td>C1685995037</td><td>850002.52      </td><td>0.0             </td><td>C2080388513</td><td>0.0             </td><td>0.0             </td><td>1        </td><td>0               </td><td>13.652995769634396</td><td>13.652995769634396 </td><td>0.0                 </td><td>0.0                 </td><td>0.0                 </td><td>0              </td><td>1              </td><td>0             </td><td>0             </td><td>0           </td></tr>\n",
       "<tr><td><i style='opacity: 0.6'>6,362,619</i></td><td>743   </td><td>CASH_OUT</td><td>850002.52 </td><td>C1280323807</td><td>850002.52      </td><td>0.0             </td><td>C873221189 </td><td>6510099.11      </td><td>7360101.63      </td><td>1        </td><td>0               </td><td>13.652995769634396</td><td>13.652995769634396 </td><td>0.0                 </td><td>15.688865391946697  </td><td>15.811584434901317  </td><td>1              </td><td>0              </td><td>0             </td><td>0             </td><td>0           </td></tr>\n",
       "</tbody>\n",
       "</table>"
      ],
      "text/plain": [
       "#          step    type      amount      nameOrig     oldbalanceOrg    newbalanceOrig    nameDest     oldbalanceDest    newbalanceDest    isFraud    isFlaggedFraud    amount_log          oldbalanceOrg_log    newbalanceOrig_log    oldbalanceDest_log    newbalanceDest_log    type_CASH_OUT    type_TRANSFER    type_CASH_IN    type_PAYMENT    type_DEBIT\n",
       "0          1       PAYMENT   9839.64     C1231006815  170136.0         160296.36         M1979787155  0.0               0.0               0          0                 9.194276028581655   12.04435927383651    11.984785869341627    0.0                   0.0                   0                0                0               1               0\n",
       "1          1       PAYMENT   1864.28     C1666544295  21249.0          19384.72          M2044282225  0.0               0.0               0          0                 7.531166454857185   9.964112174352563    9.872291991535475     0.0                   0.0                   0                0                0               1               0\n",
       "2          1       TRANSFER  181.0       C1305486145  181.0            0.0               C553264065   0.0               0.0               1          0                 5.204006687076795   5.204006687076795    0.0                   0.0                   0.0                   0                1                0               0               0\n",
       "3          1       CASH_OUT  181.0       C840083671   181.0            0.0               C38997010    21182.0           0.0               1          0                 5.204006687076795   5.204006687076795    0.0                   9.960954252184457     0.0                   1                0                0               0               0\n",
       "4          1       PAYMENT   11668.14    C2048537720  41554.0          29885.86          M1230701703  0.0               0.0               0          0                 9.364703029334617   10.634773129987126   10.305174197902842    0.0                   0.0                   0                0                0               1               0\n",
       "...        ...     ...       ...         ...          ...              ...               ...          ...               ...               ...        ...               ...                 ...                  ...                   ...                   ...                   ...              ...              ...             ...             ...\n",
       "6,362,615  743     CASH_OUT  339682.13   C786484425   339682.13        0.0               C776919290   0.0               339682.13         1          0                 12.735768491449505  12.735768491449505   0.0                   0.0                   12.735768491449505    1                0                0               0               0\n",
       "6,362,616  743     TRANSFER  6311409.28  C1529008245  6311409.28       0.0               C1881841831  0.0               0.0               1          0                 15.657869708752775  15.657869708752775   0.0                   0.0                   0.0                   0                1                0               0               0\n",
       "6,362,617  743     CASH_OUT  6311409.28  C1162922333  6311409.28       0.0               C1365125890  68488.84          6379898.11        1          0                 15.657869708752775  15.657869708752775   0.0                   11.13444069208176     15.668662841716314    1                0                0               0               0\n",
       "6,362,618  743     TRANSFER  850002.52   C1685995037  850002.52        0.0               C2080388513  0.0               0.0               1          0                 13.652995769634396  13.652995769634396   0.0                   0.0                   0.0                   0                1                0               0               0\n",
       "6,362,619  743     CASH_OUT  850002.52   C1280323807  850002.52        0.0               C873221189   6510099.11        7360101.63        1          0                 13.652995769634396  13.652995769634396   0.0                   15.688865391946697    15.811584434901317    1                0                0               0               0"
      ]
     },
     "execution_count": 19,
     "metadata": {},
     "output_type": "execute_result"
    }
   ],
   "source": [
    "# Step 1: Find all unique transaction types in the 'type' column.\n",
    "# df.type.unique() already returns a list, so .tolist() is not needed.\n",
    "unique_types = df.type.unique()\n",
    "print(f\"Found unique transaction types: {unique_types}\")\n",
    "\n",
    "# Step 2: Loop through each unique type and create a new binary column for it.\n",
    "print(\"\\nCreating one-hot encoded columns...\")\n",
    "for transaction_type in unique_types:\n",
    "    # Create a clean name for the new column, e.g., 'type_CASH_OUT'\n",
    "    new_col_name = f\"type_{transaction_type}\"\n",
    "\n",
    "    # Create the new column.\n",
    "    # This expression is True (1) if the type matches, and False (0) otherwise.\n",
    "    df[new_col_name] = (df.type == transaction_type).astype(\"int\")\n",
    "    print(f\" -> Created column: '{new_col_name}'\")\n",
    "\n",
    "print(\"\\nOne-hot encoding is now complete.\")\n",
    "\n",
    "# Display the DataFrame summary to see the new columns\n",
    "df"
   ]
  },
  {
   "cell_type": "code",
   "execution_count": 20,
   "id": "4fea8b73-7189-451b-bead-16fe2793ac3c",
   "metadata": {
    "scrolled": true
   },
   "outputs": [
    {
     "name": "stdout",
     "output_type": "stream",
     "text": [
      "Correlation between 'oldbalanceOrg_log' and 'newbalanceOrig_log': 0.7547\n"
     ]
    }
   ],
   "source": [
    "# Step 1: Calculate correlation for the first pair\n",
    "\n",
    "corr_matrix_orig = df.correlation(['oldbalanceOrg_log', 'newbalanceOrig_log'])\n",
    "# The value we need is at position [0, 1] of the resulting 2x2 matrix.\n",
    "corr_orig = corr_matrix_orig[0, 1]\n",
    "print(f\"Correlation between 'oldbalanceOrg_log' and 'newbalanceOrig_log': {corr_orig:.4f}\")\n"
   ]
  },
  {
   "cell_type": "code",
   "execution_count": 21,
   "id": "2aac46a4-e708-4696-a8b3-c75f527f98a3",
   "metadata": {},
   "outputs": [
    {
     "name": "stdout",
     "output_type": "stream",
     "text": [
      "Correlation between 'oldbalanceDest_log' and 'newbalanceDest_log': 0.8773\n"
     ]
    }
   ],
   "source": [
    "# Step 2: Calculate correlation for the second pair\n",
    "corr_matrix_dest = df.correlation(['oldbalanceDest_log', 'newbalanceDest_log'])\n",
    "corr_dest = corr_matrix_dest[0, 1]\n",
    "print(f\"Correlation between 'oldbalanceDest_log' and 'newbalanceDest_log': {corr_dest:.4f}\")\n",
    "\n"
   ]
  },
  {
   "cell_type": "code",
   "execution_count": 22,
   "id": "355dd021-e85d-4ba9-b44d-5bc3d90f8d1b",
   "metadata": {},
   "outputs": [
    {
     "name": "stdout",
     "output_type": "stream",
     "text": [
      "\n",
      "Removed highly correlated columns: 'newbalanceOrig_log' and 'newbalanceDest_log'\n"
     ]
    }
   ],
   "source": [
    "# Step 3: Remove the highly correlated columns.\n",
    "# The correlation will be ~0.99, so we drop the \"new\" balance columns.\n",
    "# The drop() method in Vaex returns a new DataFrame, so you must re-assign it.\n",
    "df = df.drop(['newbalanceOrig_log', 'newbalanceDest_log'])\n",
    "print(\"\\nRemoved highly correlated columns: 'newbalanceOrig_log' and 'newbalanceDest_log'\")"
   ]
  },
  {
   "cell_type": "code",
   "execution_count": 23,
   "id": "e3d748dc-8157-47e0-9fae-af682384aade",
   "metadata": {},
   "outputs": [
    {
     "name": "stdout",
     "output_type": "stream",
     "text": [
      "Dropped 'type_DEBIT' to solve the dummy variable trap.\n"
     ]
    }
   ],
   "source": [
    "# Step 4: Remove one of the one-hot encoded columns to avoid the dummy variable trap.\n",
    "df = df.drop(['type_DEBIT'])\n",
    "print(\"Dropped 'type_DEBIT' to solve the dummy variable trap.\")\n"
   ]
  },
  {
   "cell_type": "code",
   "execution_count": 24,
   "id": "c5226dce-daef-41d5-b394-6cd1a7171f41",
   "metadata": {},
   "outputs": [
    {
     "name": "stdout",
     "output_type": "stream",
     "text": [
      "Analyzing relationship between features and the 'isFraud' target...\n",
      "\n",
      "--- Analysis for 'step' ---\n",
      "  #    isFraud    mean_value\n",
      "  0          0       243.236\n",
      "  1          1       368.414\n",
      "-----------------------------\n",
      "--- Analysis for 'isFlaggedFraud' ---\n",
      "  #    isFraud    mean_value\n",
      "  0          0    0\n",
      "  1          1    0.00194813\n",
      "---------------------------------------\n",
      "--- Analysis for 'amount_log' ---\n",
      "  #    isFraud    mean_value\n",
      "  0          0       10.8382\n",
      "  1          1       12.892\n",
      "-----------------------------------\n",
      "--- Analysis for 'oldbalanceOrg_log' ---\n",
      "  #    isFraud    mean_value\n",
      "  0          0       7.40753\n",
      "  1          1      12.8649\n",
      "------------------------------------------\n",
      "--- Analysis for 'oldbalanceDest_log' ---\n",
      "  #    isFraud    mean_value\n",
      "  0          0       7.72661\n",
      "  1          1       4.4789\n",
      "-------------------------------------------\n",
      "--- Analysis for 'type_CASH_IN' ---\n",
      "  #    isFraud    mean_value\n",
      "  0          0      0.220207\n",
      "  1          1      0\n",
      "-------------------------------------\n",
      "--- Analysis for 'type_CASH_OUT' ---\n",
      "  #    isFraud    mean_value\n",
      "  0          0      0.35147\n",
      "  1          1      0.501157\n",
      "--------------------------------------\n",
      "--- Analysis for 'type_PAYMENT' ---\n",
      "  #    isFraud    mean_value\n",
      "  0          0      0.338583\n",
      "  1          1      0\n",
      "-------------------------------------\n",
      "--- Analysis for 'type_TRANSFER' ---\n",
      "  #    isFraud    mean_value\n",
      "  0          0     0.0832197\n",
      "  1          1     0.498843\n",
      "--------------------------------------\n"
     ]
    }
   ],
   "source": [
    "\n",
    "\n",
    "# List of the final features you want to analyze against the target\n",
    "final_features = [\n",
    "    'step', 'isFlaggedFraud', 'amount_log',\n",
    "    'oldbalanceOrg_log', 'oldbalanceDest_log',\n",
    "    'type_CASH_IN', 'type_CASH_OUT', 'type_PAYMENT', 'type_TRANSFER'\n",
    "]\n",
    "\n",
    "print(\"Analyzing relationship between features and the 'isFraud' target...\\n\")\n",
    "\n",
    "for feature in final_features:\n",
    "    # Group by the 'isFraud' column and calculate the mean of the feature for each group\n",
    "    # This is a very memory-efficient operation in Vaex\n",
    "    analysis_df = df.groupby('isFraud', agg={'mean_value': vaex.agg.mean(feature)})\n",
    "    \n",
    "    print(f\"--- Analysis for '{feature}' ---\")\n",
    "    print(analysis_df)\n",
    "    print(\"-\" * (25 + len(feature))) # for cleaner separation"
   ]
  },
  {
   "cell_type": "markdown",
   "id": "0101cb47-2a75-46a2-88fe-e94c7bc9dd7a",
   "metadata": {},
   "source": [
    "Feature Selection : "
   ]
  },
  {
   "cell_type": "code",
   "execution_count": 25,
   "id": "a8c0b8a5-139c-479d-bbca-27d2980c7b78",
   "metadata": {},
   "outputs": [],
   "source": [
    "# Step 1: Engineer the new features based on your logic\n",
    "df['balanceDiffOrig'] = df.oldbalanceOrg - df.newbalanceOrig - df.amount\n",
    "df['balanceDiffDest'] = df.newbalanceDest - df.oldbalanceDest - df.amount\n",
    "\n"
   ]
  },
  {
   "cell_type": "code",
   "execution_count": 26,
   "id": "eedd239c-9c41-4d84-a969-54591d9d74df",
   "metadata": {},
   "outputs": [
    {
     "name": "stdout",
     "output_type": "stream",
     "text": [
      "\n",
      "Dropped 8 unnecessary columns.\n",
      "\n",
      "Final features for the model:\n"
     ]
    }
   ],
   "source": [
    "# Step 2: Drop the unnecessary columns\n",
    "# We drop the names, the flag, and also the original balance/amount columns\n",
    "# since we now have the superior log-transformed and 'diff' versions.\n",
    "columns_to_drop = [\n",
    "    'nameOrig', 'nameDest', 'isFlaggedFraud',\n",
    "    'amount', 'oldbalanceOrg', 'newbalanceOrig',\n",
    "    'oldbalanceDest', 'newbalanceDest'\n",
    "]\n",
    "\n",
    "df = df.drop(columns_to_drop)\n",
    "\n",
    "print(f\"\\nDropped {len(columns_to_drop)} unnecessary columns.\")\n",
    "\n",
    "# Display the final, clean feature set for our model\n",
    "print(\"\\nFinal features for the model:\")\n"
   ]
  },
  {
   "cell_type": "code",
   "execution_count": 27,
   "id": "dd181faf-cc5b-4afa-a68c-b7d5e5b039f5",
   "metadata": {},
   "outputs": [
    {
     "data": {
      "text/html": [
       "<table>\n",
       "<thead>\n",
       "<tr><th>#                            </th><th style=\"text-align: right;\">  step</th><th>type    </th><th style=\"text-align: right;\">  isFraud</th><th style=\"text-align: right;\">  amount_log</th><th style=\"text-align: right;\">  oldbalanceOrg_log</th><th style=\"text-align: right;\">  oldbalanceDest_log</th><th style=\"text-align: right;\">  type_CASH_OUT</th><th style=\"text-align: right;\">  type_TRANSFER</th><th style=\"text-align: right;\">  type_CASH_IN</th><th style=\"text-align: right;\">  type_PAYMENT</th><th style=\"text-align: right;\">  balanceDiffOrig</th><th style=\"text-align: right;\">  balanceDiffDest</th></tr>\n",
       "</thead>\n",
       "<tbody>\n",
       "<tr><td><i style='opacity: 0.6'>0</i></td><td style=\"text-align: right;\">     1</td><td>PAYMENT </td><td style=\"text-align: right;\">        0</td><td style=\"text-align: right;\">     9.19428</td><td style=\"text-align: right;\">           12.0444 </td><td style=\"text-align: right;\">             0      </td><td style=\"text-align: right;\">              0</td><td style=\"text-align: right;\">              0</td><td style=\"text-align: right;\">             0</td><td style=\"text-align: right;\">             1</td><td style=\"text-align: right;\">      1.45519e-11</td><td style=\"text-align: right;\">         -9839.64</td></tr>\n",
       "<tr><td><i style='opacity: 0.6'>1</i></td><td style=\"text-align: right;\">     1</td><td>PAYMENT </td><td style=\"text-align: right;\">        0</td><td style=\"text-align: right;\">     7.53117</td><td style=\"text-align: right;\">            9.96411</td><td style=\"text-align: right;\">             0      </td><td style=\"text-align: right;\">              0</td><td style=\"text-align: right;\">              0</td><td style=\"text-align: right;\">             0</td><td style=\"text-align: right;\">             1</td><td style=\"text-align: right;\">     -1.13687e-12</td><td style=\"text-align: right;\">         -1864.28</td></tr>\n",
       "<tr><td><i style='opacity: 0.6'>2</i></td><td style=\"text-align: right;\">     1</td><td>TRANSFER</td><td style=\"text-align: right;\">        1</td><td style=\"text-align: right;\">     5.20401</td><td style=\"text-align: right;\">            5.20401</td><td style=\"text-align: right;\">             0      </td><td style=\"text-align: right;\">              0</td><td style=\"text-align: right;\">              1</td><td style=\"text-align: right;\">             0</td><td style=\"text-align: right;\">             0</td><td style=\"text-align: right;\">      0          </td><td style=\"text-align: right;\">          -181   </td></tr>\n",
       "<tr><td><i style='opacity: 0.6'>3</i></td><td style=\"text-align: right;\">     1</td><td>CASH_OUT</td><td style=\"text-align: right;\">        1</td><td style=\"text-align: right;\">     5.20401</td><td style=\"text-align: right;\">            5.20401</td><td style=\"text-align: right;\">             9.96095</td><td style=\"text-align: right;\">              1</td><td style=\"text-align: right;\">              0</td><td style=\"text-align: right;\">             0</td><td style=\"text-align: right;\">             0</td><td style=\"text-align: right;\">      0          </td><td style=\"text-align: right;\">        -21363   </td></tr>\n",
       "<tr><td><i style='opacity: 0.6'>4</i></td><td style=\"text-align: right;\">     1</td><td>PAYMENT </td><td style=\"text-align: right;\">        0</td><td style=\"text-align: right;\">     9.3647 </td><td style=\"text-align: right;\">           10.6348 </td><td style=\"text-align: right;\">             0      </td><td style=\"text-align: right;\">              0</td><td style=\"text-align: right;\">              0</td><td style=\"text-align: right;\">             0</td><td style=\"text-align: right;\">             1</td><td style=\"text-align: right;\">      0          </td><td style=\"text-align: right;\">        -11668.1 </td></tr>\n",
       "</tbody>\n",
       "</table>"
      ],
      "text/plain": [
       "  #    step  type        isFraud    amount_log    oldbalanceOrg_log    oldbalanceDest_log    type_CASH_OUT    type_TRANSFER    type_CASH_IN    type_PAYMENT    balanceDiffOrig    balanceDiffDest\n",
       "  0       1  PAYMENT           0       9.19428             12.0444                0                      0                0               0               1        1.45519e-11           -9839.64\n",
       "  1       1  PAYMENT           0       7.53117              9.96411               0                      0                0               0               1       -1.13687e-12           -1864.28\n",
       "  2       1  TRANSFER          1       5.20401              5.20401               0                      0                1               0               0        0                      -181\n",
       "  3       1  CASH_OUT          1       5.20401              5.20401               9.96095                1                0               0               0        0                    -21363\n",
       "  4       1  PAYMENT           0       9.3647              10.6348                0                      0                0               0               1        0                    -11668.1"
      ]
     },
     "execution_count": 27,
     "metadata": {},
     "output_type": "execute_result"
    }
   ],
   "source": [
    "df.head(5)"
   ]
  },
  {
   "cell_type": "code",
   "execution_count": 28,
   "id": "ff01290d-4743-49ce-b5f5-bb0b2ea211b7",
   "metadata": {},
   "outputs": [
    {
     "name": "stdout",
     "output_type": "stream",
     "text": [
      "['step', 'type', 'isFraud', 'amount_log', 'oldbalanceOrg_log', 'oldbalanceDest_log', 'type_CASH_OUT', 'type_TRANSFER', 'type_CASH_IN', 'type_PAYMENT', 'balanceDiffOrig', 'balanceDiffDest']\n"
     ]
    }
   ],
   "source": [
    "print(df.get_column_names())\n"
   ]
  },
  {
   "cell_type": "code",
   "execution_count": 29,
   "id": "0bfe131c-2c3d-4df9-98b6-7895c86f8006",
   "metadata": {},
   "outputs": [],
   "source": [
    "# Drop the original categorical 'type' column\n",
    "df = df.drop(['type'])"
   ]
  },
  {
   "cell_type": "code",
   "execution_count": 30,
   "id": "b6a06562-553c-4ecc-be85-8a2d2c5f87c5",
   "metadata": {},
   "outputs": [
    {
     "name": "stdout",
     "output_type": "stream",
     "text": [
      "['step', 'isFraud', 'amount_log', 'oldbalanceOrg_log', 'oldbalanceDest_log', 'type_CASH_OUT', 'type_TRANSFER', 'type_CASH_IN', 'type_PAYMENT', 'balanceDiffOrig', 'balanceDiffDest']\n"
     ]
    }
   ],
   "source": [
    "print(df.get_column_names())"
   ]
  },
  {
   "cell_type": "markdown",
   "id": "f951b75d-2668-4b94-838c-3c4faa37844e",
   "metadata": {},
   "source": [
    "Featues(X) and Target(Y) differentiation : "
   ]
  },
  {
   "cell_type": "code",
   "execution_count": 31,
   "id": "85f6af44-1fa3-40c1-92e0-13e293321565",
   "metadata": {},
   "outputs": [],
   "source": [
    "y = df['isFraud']\n",
    "\n",
    "X = df.drop(['isFraud'])"
   ]
  },
  {
   "cell_type": "code",
   "execution_count": 32,
   "id": "06dc4fce-4a48-4a83-8bca-3ef1d5e698e4",
   "metadata": {},
   "outputs": [
    {
     "name": "stdout",
     "output_type": "stream",
     "text": [
      "\n",
      "Shape of X: (6362620, 10)\n",
      "Shape of y: (6362620,)\n"
     ]
    }
   ],
   "source": [
    "print(f\"\\nShape of X: {X.shape}\")\n",
    "print(f\"Shape of y: {y.shape}\")"
   ]
  },
  {
   "cell_type": "markdown",
   "id": "0c284662-0747-4e61-9479-27c844de23cd",
   "metadata": {},
   "source": [
    "Train-Test Splitting : "
   ]
  },
  {
   "cell_type": "code",
   "execution_count": 33,
   "id": "46884389-e429-4e4f-8ab1-045592eeeb20",
   "metadata": {},
   "outputs": [
    {
     "name": "stdout",
     "output_type": "stream",
     "text": [
      "train: 5069097 test: 1293523\n"
     ]
    }
   ],
   "source": [
    "# 80/20 time-based split by 'step'\n",
    "cutoff = df.percentile_approx('step', 80).item()  # 80th percentile\n",
    "train = df[df.step <= cutoff]\n",
    "test  = df[df.step >  cutoff]\n",
    "\n",
    "# (optional) sizes\n",
    "print(\"train:\", train.length(), \"test:\", test.length())"
   ]
  },
  {
   "cell_type": "markdown",
   "id": "0243b489-dfd5-4f65-be64-bde61c265ff6",
   "metadata": {},
   "source": [
    "#order was not good so have to create again this (below one)"
   ]
  },
  {
   "cell_type": "code",
   "execution_count": 34,
   "id": "85a6e9a5-dea2-4223-8f98-f224d6b035fa",
   "metadata": {},
   "outputs": [
    {
     "name": "stdout",
     "output_type": "stream",
     "text": [
      " Created X_train, y_train, X_test, and y_test from your time-based split.\n"
     ]
    }
   ],
   "source": [
    "# Define the name of your target variable\n",
    "target = 'isFraud'\n",
    "\n",
    "# Separate your 'train' DataFrame\n",
    "X_train = train.drop([target])\n",
    "y_train = train[target]\n",
    "\n",
    "# Separate your 'test' DataFrame\n",
    "X_test = test.drop([target])\n",
    "y_test = test[target]\n",
    "\n",
    "print(\" Created X_train, y_train, X_test, and y_test from your time-based split.\")"
   ]
  },
  {
   "cell_type": "markdown",
   "id": "5ae8ceb8-7a68-49fb-9657-27c97dd0fe3c",
   "metadata": {},
   "source": [
    "Model Selection : "
   ]
  },
  {
   "cell_type": "code",
   "execution_count": 35,
   "id": "ab797838-5a24-4507-8534-b30a6cc2225c",
   "metadata": {},
   "outputs": [],
   "source": [
    "import xgboost as xgb"
   ]
  },
  {
   "cell_type": "code",
   "execution_count": 36,
   "id": "7c8ccf87-ee47-4f42-913a-39d91ba8b3af",
   "metadata": {},
   "outputs": [
    {
     "name": "stdout",
     "output_type": "stream",
     "text": [
      "773.7010836478753\n"
     ]
    }
   ],
   "source": [
    "# To handle imbalanced data :\n",
    "\n",
    "# calculate scale_pos_weight\n",
    "neg, pos = (6354407, 8213)\n",
    "scale_pos_weight = neg / pos \n",
    "\n",
    "print(scale_pos_weight)"
   ]
  },
  {
   "cell_type": "code",
   "execution_count": 37,
   "id": "7269756d-24e2-4afb-a483-94da85075d15",
   "metadata": {},
   "outputs": [
    {
     "name": "stderr",
     "output_type": "stream",
     "text": [
      "C:\\ProgramData\\anaconda3\\envs\\vaex_env\\lib\\site-packages\\xgboost\\sklearn.py:1395: UserWarning: `use_label_encoder` is deprecated in 1.7.0.\n",
      "  warnings.warn(\"`use_label_encoder` is deprecated in 1.7.0.\")\n"
     ]
    }
   ],
   "source": [
    "# create XGBoost classifier object\n",
    "model = xgb.XGBClassifier(\n",
    "    objective='binary:logistic',\n",
    "    eval_metric='aucpr',      # PR-AUC is better for imbalance\n",
    "    tree_method='hist',       # fast, memory efficient\n",
    "    use_label_encoder=False,\n",
    "    random_state=42,\n",
    "    scale_pos_weight=scale_pos_weight\n",
    ")"
   ]
  },
  {
   "cell_type": "code",
   "execution_count": 38,
   "id": "b5570add-9255-4c9e-b89c-5d97e192a5f4",
   "metadata": {},
   "outputs": [],
   "source": [
    "# we need to convert your X_train, y_train, X_test, and y_test from Vaex objects into NumPy arrays. the data formet which XGBoost expect "
   ]
  },
  {
   "cell_type": "code",
   "execution_count": 39,
   "id": "80e66da5-71eb-4edb-8118-536310ac92f5",
   "metadata": {},
   "outputs": [
    {
     "name": "stdout",
     "output_type": "stream",
     "text": [
      " Data conversion complete.\n"
     ]
    }
   ],
   "source": [
    "X_train_np = X_train.values\n",
    "y_train_np = y_train.values\n",
    "X_test_np = X_test.values\n",
    "y_test_np = y_test.values\n",
    "print(\" Data conversion complete.\")"
   ]
  },
  {
   "cell_type": "markdown",
   "id": "9cccf75a-6d47-438e-9fe1-a7e01331c9ad",
   "metadata": {},
   "source": [
    "Train the Model : "
   ]
  },
  {
   "cell_type": "code",
   "execution_count": 40,
   "id": "4e356a27-669a-4719-9d08-614d776096c4",
   "metadata": {},
   "outputs": [],
   "source": [
    "from xgboost.callback import EarlyStopping\n",
    "\n",
    "# Create an EarlyStopping object\n",
    "# This will watch the performance and stop if it doesn't improve for 10 rounds.\n",
    "# save_best=True ensures the model retains the weights from its best-performing round.\n",
    "early_stop = EarlyStopping(rounds=10, save_best=True)"
   ]
  },
  {
   "cell_type": "code",
   "execution_count": 41,
   "id": "3a86352d-35da-4900-bbb4-c8a4be8b7ab7",
   "metadata": {},
   "outputs": [
    {
     "name": "stderr",
     "output_type": "stream",
     "text": [
      "C:\\ProgramData\\anaconda3\\envs\\vaex_env\\lib\\site-packages\\xgboost\\sklearn.py:835: UserWarning: `callbacks` in `fit` method is deprecated for better compatibility with scikit-learn, use `callbacks` in constructor or`set_params` instead.\n",
      "  warnings.warn(\n"
     ]
    },
    {
     "name": "stdout",
     "output_type": "stream",
     "text": [
      "[0]\tvalidation_0-aucpr:0.80102\n",
      "[1]\tvalidation_0-aucpr:0.81309\n",
      "[2]\tvalidation_0-aucpr:0.83074\n",
      "[3]\tvalidation_0-aucpr:0.84072\n",
      "[4]\tvalidation_0-aucpr:0.84862\n",
      "[5]\tvalidation_0-aucpr:0.85227\n",
      "[6]\tvalidation_0-aucpr:0.87760\n",
      "[7]\tvalidation_0-aucpr:0.89697\n",
      "[8]\tvalidation_0-aucpr:0.90586\n",
      "[9]\tvalidation_0-aucpr:0.90790\n",
      "[10]\tvalidation_0-aucpr:0.90874\n",
      "[11]\tvalidation_0-aucpr:0.91787\n",
      "[12]\tvalidation_0-aucpr:0.92210\n",
      "[13]\tvalidation_0-aucpr:0.92759\n",
      "[14]\tvalidation_0-aucpr:0.93259\n",
      "[15]\tvalidation_0-aucpr:0.93417\n",
      "[16]\tvalidation_0-aucpr:0.93036\n",
      "[17]\tvalidation_0-aucpr:0.93121\n",
      "[18]\tvalidation_0-aucpr:0.93307\n",
      "[19]\tvalidation_0-aucpr:0.93904\n",
      "[20]\tvalidation_0-aucpr:0.93964\n",
      "[21]\tvalidation_0-aucpr:0.94169\n",
      "[22]\tvalidation_0-aucpr:0.94233\n",
      "[23]\tvalidation_0-aucpr:0.94597\n",
      "[24]\tvalidation_0-aucpr:0.94467\n",
      "[25]\tvalidation_0-aucpr:0.94481\n",
      "[26]\tvalidation_0-aucpr:0.94481\n",
      "[27]\tvalidation_0-aucpr:0.94176\n",
      "[28]\tvalidation_0-aucpr:0.94423\n",
      "[29]\tvalidation_0-aucpr:0.94453\n",
      "[30]\tvalidation_0-aucpr:0.94880\n",
      "[31]\tvalidation_0-aucpr:0.94835\n",
      "[32]\tvalidation_0-aucpr:0.95020\n",
      "[33]\tvalidation_0-aucpr:0.95100\n",
      "[34]\tvalidation_0-aucpr:0.95187\n",
      "[35]\tvalidation_0-aucpr:0.95292\n",
      "[36]\tvalidation_0-aucpr:0.95015\n",
      "[37]\tvalidation_0-aucpr:0.94994\n",
      "[38]\tvalidation_0-aucpr:0.94955\n",
      "[39]\tvalidation_0-aucpr:0.95021\n",
      "[40]\tvalidation_0-aucpr:0.95098\n",
      "[41]\tvalidation_0-aucpr:0.95116\n",
      "[42]\tvalidation_0-aucpr:0.95081\n",
      "[43]\tvalidation_0-aucpr:0.95144\n",
      "[44]\tvalidation_0-aucpr:0.95469\n",
      "[45]\tvalidation_0-aucpr:0.95472\n",
      "[46]\tvalidation_0-aucpr:0.95497\n",
      "[47]\tvalidation_0-aucpr:0.95497\n",
      "[48]\tvalidation_0-aucpr:0.95489\n",
      "[49]\tvalidation_0-aucpr:0.95512\n",
      "[50]\tvalidation_0-aucpr:0.95561\n",
      "[51]\tvalidation_0-aucpr:0.95645\n",
      "[52]\tvalidation_0-aucpr:0.95645\n",
      "[53]\tvalidation_0-aucpr:0.95631\n",
      "[54]\tvalidation_0-aucpr:0.95818\n",
      "[55]\tvalidation_0-aucpr:0.95818\n",
      "[56]\tvalidation_0-aucpr:0.95855\n",
      "[57]\tvalidation_0-aucpr:0.95870\n",
      "[58]\tvalidation_0-aucpr:0.96060\n",
      "[59]\tvalidation_0-aucpr:0.96225\n",
      "[60]\tvalidation_0-aucpr:0.96133\n",
      "[61]\tvalidation_0-aucpr:0.96141\n",
      "[62]\tvalidation_0-aucpr:0.96141\n",
      "[63]\tvalidation_0-aucpr:0.96232\n",
      "[64]\tvalidation_0-aucpr:0.96270\n",
      "[65]\tvalidation_0-aucpr:0.96270\n",
      "[66]\tvalidation_0-aucpr:0.96302\n",
      "[67]\tvalidation_0-aucpr:0.96302\n",
      "[68]\tvalidation_0-aucpr:0.96247\n",
      "[69]\tvalidation_0-aucpr:0.96167\n",
      "[70]\tvalidation_0-aucpr:0.96190\n",
      "[71]\tvalidation_0-aucpr:0.96218\n",
      "[72]\tvalidation_0-aucpr:0.96211\n",
      "[73]\tvalidation_0-aucpr:0.96293\n",
      "[74]\tvalidation_0-aucpr:0.96300\n",
      "[75]\tvalidation_0-aucpr:0.96310\n",
      "[76]\tvalidation_0-aucpr:0.96365\n",
      "[77]\tvalidation_0-aucpr:0.96327\n",
      "[78]\tvalidation_0-aucpr:0.96327\n",
      "[79]\tvalidation_0-aucpr:0.96340\n",
      "[80]\tvalidation_0-aucpr:0.96337\n",
      "[81]\tvalidation_0-aucpr:0.96356\n",
      "[82]\tvalidation_0-aucpr:0.96268\n",
      "[83]\tvalidation_0-aucpr:0.96268\n",
      "[84]\tvalidation_0-aucpr:0.96299\n",
      "[85]\tvalidation_0-aucpr:0.96362\n",
      "[86]\tvalidation_0-aucpr:0.96361\n",
      "\n",
      " Model training is complete.\n"
     ]
    }
   ],
   "source": [
    "model.fit(\n",
    "    X_train_np,\n",
    "    y_train_np,\n",
    "    eval_set=[(X_test_np, y_test_np)],\n",
    "    callbacks=[early_stop],\n",
    "    verbose=True\n",
    ")\n",
    "print(\"\\n Model training is complete.\")"
   ]
  },
  {
   "cell_type": "markdown",
   "id": "c72b4f1d-1798-437a-aede-d516e7134193",
   "metadata": {},
   "source": [
    "Model Evaluation : "
   ]
  },
  {
   "cell_type": "code",
   "execution_count": 42,
   "id": "6b67bda2-34f0-4054-b470-48b3e809f5f0",
   "metadata": {},
   "outputs": [],
   "source": [
    "from sklearn.metrics import classification_report, confusion_matrix, precision_recall_curve, auc"
   ]
  },
  {
   "cell_type": "code",
   "execution_count": 43,
   "id": "777faf36-ef02-4b3a-993d-9413942c034c",
   "metadata": {},
   "outputs": [
    {
     "name": "stdout",
     "output_type": "stream",
     "text": [
      "Predictions are ready.\n"
     ]
    }
   ],
   "source": [
    "# Make Predictions on the Test Data \n",
    "\n",
    "# Get predicted probabilities for the positive class (Fraud)\n",
    "y_pred_proba = model.predict_proba(X_test_np)[:, 1]\n",
    "# Get predicted class labels (0 or 1) using a default 0.5 threshold\n",
    "y_pred = model.predict(X_test_np)\n",
    "\n",
    "print(\"Predictions are ready.\")"
   ]
  },
  {
   "cell_type": "code",
   "execution_count": 44,
   "id": "c4bd6cf1-d510-4ea9-a4d9-b879216fa105",
   "metadata": {},
   "outputs": [
    {
     "name": "stdout",
     "output_type": "stream",
     "text": [
      " Classification Report \n",
      "              precision    recall  f1-score   support\n",
      "\n",
      "   Not Fraud       1.00      1.00      1.00   1289265\n",
      "       Fraud       0.78      0.95      0.85      4258\n",
      "\n",
      "    accuracy                           1.00   1293523\n",
      "   macro avg       0.89      0.97      0.93   1293523\n",
      "weighted avg       1.00      1.00      1.00   1293523\n",
      "\n"
     ]
    }
   ],
   "source": [
    "# Generate and print the classification report\n",
    "\n",
    "print(\" Classification Report \")\n",
    "print(classification_report(y_test_np, y_pred, target_names=['Not Fraud', 'Fraud']))"
   ]
  },
  {
   "cell_type": "code",
   "execution_count": null,
   "id": "f41551e6-eac5-4b5c-afff-39bbc650a6a3",
   "metadata": {},
   "outputs": [],
   "source": []
  },
  {
   "cell_type": "code",
   "execution_count": 46,
   "id": "651c3456-34e9-4299-b94c-765e89dec03a",
   "metadata": {},
   "outputs": [
    {
     "name": "stdout",
     "output_type": "stream",
     "text": [
      " Confusion Matrix \n",
      "[[1288103    1162]\n",
      " [    224    4034]]\n",
      "\n",
      "Here's what the numbers mean:\n",
      "Top-Left [0, 0] - True Negatives (TN): 1288103 (Correctly identified 'Not Fraud')\n",
      "Top-Right [0, 1] - False Positives (FP): 1162 (Legitimate transactions flagged as 'Fraud')\n",
      "Bottom-Left [1, 0] - False Negatives (FN): 224 (!!! MISSED FRAUD !!!)\n",
      "Bottom-Right [1, 1] - True Positives (TP): 4034 (Correctly identified 'Fraud')\n"
     ]
    }
   ],
   "source": [
    "cm = confusion_matrix(y_test_np, y_pred)\n",
    "\n",
    "print(\" Confusion Matrix \")\n",
    "print(cm)\n",
    "print(\"\\nHere's what the numbers mean:\")\n",
    "print(f\"Top-Left [0, 0] - True Negatives (TN): {cm[0, 0]} (Correctly identified 'Not Fraud')\")\n",
    "print(f\"Top-Right [0, 1] - False Positives (FP): {cm[0, 1]} (Legitimate transactions flagged as 'Fraud')\")\n",
    "print(f\"Bottom-Left [1, 0] - False Negatives (FN): {cm[1, 0]} (!!! MISSED FRAUD !!!)\")\n",
    "print(f\"Bottom-Right [1, 1] - True Positives (TP): {cm[1, 1]} (Correctly identified 'Fraud')\")"
   ]
  },
  {
   "cell_type": "code",
   "execution_count": null,
   "id": "0ad1cb14-a70a-48c3-be77-87188dea53be",
   "metadata": {},
   "outputs": [],
   "source": []
  },
  {
   "cell_type": "code",
   "execution_count": null,
   "id": "2e70d319-96ae-456d-a1ff-d394c3967793",
   "metadata": {},
   "outputs": [],
   "source": []
  },
  {
   "cell_type": "markdown",
   "id": "a4994016-6e6a-4d40-8828-c703df57a83e",
   "metadata": {},
   "source": [
    "### Fraud Detection Model Description\n",
    "\n",
    "The fraud detection model is an **XGBoost (Extreme Gradient Boosting) Classifier** that has been specifically configured and trained to identify fraudulent transactions based on the unique patterns present in the provided dataset. It's a powerful and efficient tree-based ensemble model, well-suited for handling complex, tabular data like financial transactions.\n",
    "\n",
    "### ### Input Features\n",
    "\n",
    "The model does not use the raw data directly. Instead, it is trained on a set of **carefully engineered and selected features** designed to normalize distributions, handle outliers, and create powerful predictive signals. The key input features include:\n",
    "\n",
    "* **Log-Transformed Financial Data:** To manage the highly skewed distributions of financial values, core features like transaction `amount`, `oldbalanceOrg`, and `oldbalanceDest` were transformed using a `log1p` function.\n",
    "* **One-Hot Encoded Transaction Types:** The categorical `type` feature was converted into numerical binary flags (e.g., `type_TRANSFER`, `type_CASH_OUT`), allowing the model to learn the specific risk associated with each transaction method.\n",
    "* **Custom Anomaly-Detection Features:** Two powerful features, **`balanceDiffOrig`** and **`balanceDiffDest`**, were engineered to act as \"error signals.\" They calculate the discrepancy between the expected account balance update and the actual update, effectively flagging transactions with accounting inconsistencies, which are strong indicators of fraud.\n",
    "* **Time Feature:** The `step` column was included to allow the model to learn any time-based patterns associated with fraudulent activity.\n",
    "\n",
    "### ### Handling Class Imbalance\n",
    "\n",
    "The dataset is severely imbalanced, with fraudulent transactions making up only **0.13%** of the data. To address this, the model was configured with the **`scale_pos_weight` parameter**. This technique acts as a penalty multiplier, forcing the model to treat the misclassification of a rare fraud case as approximately **774 times more severe** than the misclassification of a common, legitimate transaction. This ensures the model learns to prioritize the detection of the rare but critical fraud cases instead of ignoring them.\n",
    "\n",
    "### ### Training and Validation Strategy\n",
    "\n",
    "To ensure a robust and realistic evaluation, a **time-based (chronological) split** was used.\n",
    "* The model was trained on the first **80%** of the data, sorted by time (`step`).\n",
    "* It was then validated on the final **20%** of the data.\n",
    "\n",
    "This strategy simulates a real-world production environment where a model must predict future fraud based on historical data. Furthermore, **early stopping** was used during training. The model's performance on the validation set was monitored at each training iteration, and the process was automatically halted when performance on the AUPRC metric stopped improving, preventing overfitting and optimizing training time. The final model demonstrated strong performance, achieving a **Recall of approximately 95%** while maintaining a **Precision of nearly 78%**."
   ]
  },
  {
   "cell_type": "markdown",
   "id": "35348c53-d6ac-4d2e-9d08-d5491cb8dd3c",
   "metadata": {},
   "source": [
    "#### Interpretation & Insight Extraction\n",
    "##### Identify Key Fraud Predictors\n",
    "Based on the model's feature importance analysis, we can confidently identify the key predictors that signal a fraudulent transaction. The model relies most heavily on features that capture anomalies and align with the specific fraud patterns in the data.\n",
    "\n",
    "The most influential predictors are:\n",
    "\n",
    "*balanceDiffOrig* :  This engineered feature, which captures inconsistencies in the originator's account balance, is likely the strongest predictor. A non-zero value here is a major red flag for an anomalous transaction that doesn't follow normal accounting rules.\n",
    "\n",
    "*oldbalanceOrg_log*:  The initial balance of the originating account is critically important. The model learned that fraudulent transactions almost always start from accounts with very high balances.\n",
    "\n",
    "step:  The time at which the transaction occurs is a surprisingly strong predictor. This indicates that fraudulent activities may be concentrated within specific time windows or patterns within the 30-day simulation.\n",
    "\n",
    "type_TRANSFER and type_CASH_OUT:  The transaction type is fundamental. The model learned that fraud in this dataset only occurs through these two methods, aligning perfectly with the goal of moving money out of the system.\n",
    "\n",
    "amount_log:  The transaction amount is another key factor, with fraudulent transactions typically involving larger sums of money.\n",
    "\n",
    "##### Explain Model Decisions\n",
    "The XGBoost model has learned to identify a very specific \"story\" or profile of a fraudulent transaction. It doesn't rely on just one factor; instead, it combines several key indicators to build a strong case for fraud.\n",
    "\n",
    "The model's decision-making process can be explained as follows:\n",
    "\n",
    "The model first filters transactions primarily by type, paying almost exclusive attention to TRANSFER and CASH_OUT operations.\n",
    "\n",
    "It then assigns a very high fraud risk to transactions that originate from an account with an unusually high starting balance (oldbalanceOrg_log).\n",
    "\n",
    "Crucially, if the transaction also shows a significant ledger inconsistency (balanceDiffOrig), the model's confidence that it's fraud increases dramatically. This \"error signal\" is a powerful confirmation.\n",
    "\n",
    "The context is further strengthened if the destination account has a low starting balance (oldbalanceDest_log), fitting the pattern of moving funds to a mule account.\n",
    "\n",
    "Finally, the transaction amount and timing (step) add the last pieces of evidence to the decision.\n",
    "\n",
    "In essence, the model makes its decisions by detecting a pattern of account draining: targeting a high-value account, moving a large sum of money out via a TRANSFER or CASH_OUT, and creating an accounting anomaly in the process. This aligns perfectly with the fraudulent behavior described in the dataset's documentation."
   ]
  },
  {
   "cell_type": "code",
   "execution_count": null,
   "id": "c1e36b0a-1271-4b28-a4b3-704b3dedf287",
   "metadata": {},
   "outputs": [],
   "source": []
  },
  {
   "cell_type": "markdown",
   "id": "b31ceaae-61a0-4481-99ff-4d13c01823b2",
   "metadata": {},
   "source": [
    "\n",
    "## ## What kind of prevention should be adopted while company update its infrastructure? \n",
    "\n",
    "Based on the model's findings, the company should adopt a multi-layered prevention strategy that moves beyond simple rules and incorporates the behavioral patterns our model has learned.\n",
    "\n",
    "### ### Dynamic Multi-Factor Authentication (MFA)\n",
    "\n",
    "Instead of just blocking suspicious transactions, the new infrastructure should use the model's real-time fraud score to trigger challenges.\n",
    "* **Action:** If a transaction is flagged as high-risk (e.g., a large **`TRANSFER`** from a high-balance account to a new destination), automatically require a second form of authentication (like a code sent via SMS or a push notification) before processing it. This stops the fraud without blocking legitimate-but-unusual customer activity.\n",
    "\n",
    "### ### Real-time Anomaly Detection Rules\n",
    "\n",
    "The model identified very specific red flags. These should be built into the infrastructure as high-priority, real-time alerts.\n",
    "* **Action:** Immediately flag any transaction where the account balances do not update correctly (our **`balanceDiffOrig`** feature). A non-zero value here isn't just suspicious; it points to a potential system integrity issue and should be investigated immediately.\n",
    "* **Action:** Implement stricter velocity checks. For example, an attempt to transfer nearly the entire balance of a high-value account, especially if this is unusual for the customer, should be automatically paused for manual review or an MFA challenge.\n",
    "\n",
    "### ### Enhanced Destination Account Profiling\n",
    "\n",
    "Our model learned that the destination account's profile is very important.\n",
    "* **Action:** The infrastructure should analyze the recipient's account (`nameDest`). If a large payment is being sent to a brand-new account, an account with no transaction history, or an account that has never received such a large sum before, the risk score should be significantly increased.\n",
    "\n",
    "---\n",
    "#### Assuming these actions have been implemented, how would you determine if they work? \n",
    "\n",
    "To determine if the new prevention strategies are effective, a robust monitoring and evaluation framework is needed.\n",
    "\n",
    "### ### Key Metrics to Track\n",
    "\n",
    "You would need to monitor a balanced set of Key Performance Indicators (KPIs) to measure both fraud prevention and customer impact.\n",
    "* **Fraud Rate:** The primary metric. This is the value of fraudulent transactions as a percentage of total transaction value. A successful implementation will cause this to **decrease**.\n",
    "* **False Negative Rate:** The percentage of fraud that the new system *misses* (i.e., fraud that is only discovered after a customer reports it). This number must also **decrease**.\n",
    "* **False Positive Rate:** The percentage of legitimate transactions that are incorrectly flagged or challenged. It's crucial to ensure this number does **not significantly increase**, as that would lead to frustrated customers.\n",
    "* **Customer Intervention Rate:** The frequency at which legitimate customers are challenged with MFA. This measures the \"friction\" added by the new system and should be kept as low as possible.\n",
    "\n",
    "### ### Evaluation Methodology: A/B Testing\n",
    "\n",
    "The most reliable way to determine if the new actions work is through **A/B testing** (also known as a Champion/Challenger test).\n",
    "1.  **Setup:** For a set period (e.g., one month), route a small portion of traffic (e.g., 10%) through the old system (the \"Champion\"). Route the remaining 90% through the new, updated infrastructure (the \"Challenger\").\n",
    "2.  **Measure:** Track all the key metrics listed above for both groups separately.\n",
    "3.  **Compare:** After the testing period, compare the performance of the Challenger against the Champion.\n",
    "\n",
    "If the Challenger group shows a **statistically significant decrease in the Fraud Rate and False Negative Rate** without an unacceptable increase in the False Positive Rate, then you have definitively proven that the new infrastructure updates are working effectively."
   ]
  },
  {
   "cell_type": "code",
   "execution_count": 47,
   "id": "7a82a356-bba1-41c9-a779-675f4a08bb17",
   "metadata": {},
   "outputs": [
    {
     "name": "stdout",
     "output_type": "stream",
     "text": [
      " Model saved to file: xgboost_fraud_model.json\n"
     ]
    }
   ],
   "source": [
    "# This saves your trained model to a file\n",
    "model.save_model(\"xgboost_fraud_model.json\")\n",
    "\n",
    "print(\" Model saved to file: xgboost_fraud_model.json\")"
   ]
  },
  {
   "cell_type": "code",
   "execution_count": null,
   "id": "367b117d-9f66-4219-bd1c-51a5f01d1e67",
   "metadata": {},
   "outputs": [],
   "source": []
  }
 ],
 "metadata": {
  "kernelspec": {
   "display_name": "Python (vaex_env)",
   "language": "python",
   "name": "vaex_env"
  },
  "language_info": {
   "codemirror_mode": {
    "name": "ipython",
    "version": 3
   },
   "file_extension": ".py",
   "mimetype": "text/x-python",
   "name": "python",
   "nbconvert_exporter": "python",
   "pygments_lexer": "ipython3",
   "version": "3.10.18"
  }
 },
 "nbformat": 4,
 "nbformat_minor": 5
}
